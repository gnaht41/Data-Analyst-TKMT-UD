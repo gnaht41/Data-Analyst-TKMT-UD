{
 "cells": [
  {
   "cell_type": "code",
   "execution_count": 1,
   "metadata": {},
   "outputs": [
    {
     "name": "stdout",
     "output_type": "stream",
     "text": [
      "Khối lượng trung bình các quả cam (độ tin cậy 95%): (35.540603778121685, 36.239396221878316)\n",
      "Tỷ lệ cam loại 2 (độ tin cậy 90%): (0.014151246316010904, 0.08584875368398909)\n"
     ]
    }
   ],
   "source": [
    "import numpy as np\n",
    "from scipy import stats\n",
    "\n",
    "# Khối lượng và số lượng quả cam\n",
    "weights = np.array([32, 33, 34, 35, 36, 37, 38, 39, 40])\n",
    "counts = np.array([2, 3, 15, 26, 28, 6, 8, 8, 4])\n",
    "\n",
    "# Tính khối lượng trung bình\n",
    "mean_weight = np.sum(weights * counts) / np.sum(counts)\n",
    "\n",
    "# Tính độ lệch chuẩn\n",
    "std_dev = np.sqrt(np.sum(counts * (weights - mean_weight)**2) / np.sum(counts))\n",
    "\n",
    "# Tính khoảng tin cậy 95% cho khối lượng trung bình\n",
    "confidence_interval_95 = stats.norm.interval(0.95, loc=mean_weight, scale=std_dev / np.sqrt(np.sum(counts)))\n",
    "\n",
    "# Tính tỷ lệ cam loại 2\n",
    "type_2_ratio = np.sum(counts[weights < 34]) / np.sum(counts)\n",
    "\n",
    "# Tính khoảng tin cậy 90% cho tỷ lệ cam loại 2\n",
    "confidence_interval_90 = stats.norm.interval(0.90, loc=type_2_ratio, scale=np.sqrt((type_2_ratio * (1 - type_2_ratio)) / np.sum(counts)))\n",
    "\n",
    "print(f'Khối lượng trung bình các quả cam (độ tin cậy 95%): {confidence_interval_95}')\n",
    "print(f'Tỷ lệ cam loại 2 (độ tin cậy 90%): {confidence_interval_90}')\n"
   ]
  }
 ],
 "metadata": {
  "kernelspec": {
   "display_name": "Python 3",
   "language": "python",
   "name": "python3"
  },
  "language_info": {
   "codemirror_mode": {
    "name": "ipython",
    "version": 3
   },
   "file_extension": ".py",
   "mimetype": "text/x-python",
   "name": "python",
   "nbconvert_exporter": "python",
   "pygments_lexer": "ipython3",
   "version": "3.8.5"
  }
 },
 "nbformat": 4,
 "nbformat_minor": 4
}
